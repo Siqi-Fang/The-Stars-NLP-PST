{
 "cells": [
  {
   "cell_type": "markdown",
   "metadata": {
    "collapsed": false
   },
   "source": [
    "## Object\\-Oriented Programming in Python\n",
    "\n",
    "This is an example of a python class. Take a couple minutes to research and answer these questions: \n",
    "\n",
    "- attributes & methods: identify which lines of code define an attribute/method.\n",
    "- `__init__` : what is this\n",
    "- `__str__`   : what is this, why we need it.\n",
    "\n"
   ]
  },
  {
   "cell_type": "code",
   "execution_count": 3,
   "metadata": {
    "collapsed": false,
    "id": "P3EsgR1NjgyF"
   },
   "outputs": [
   ],
   "source": [
    "class Puppy:\n",
    "\n",
    "  species = 'mammal'\n",
    "\n",
    "  def __init__(self, name, breed):\n",
    "    self.name = name\n",
    "    self.breed = breed\n",
    "\n",
    "  def bark(self):\n",
    "    print(\"Wolf Wolf\")\n",
    "\n",
    "  def __str__(self):\n",
    "    return \"My name is \" + str(self.name) + \" and I am a\" + str(self.breed) + \".\"\n"
   ]
  },
  {
   "cell_type": "code",
   "execution_count": 0,
   "metadata": {
    "collapsed": false
   },
   "outputs": [
   ],
   "source": [
   ]
  },
  {
   "cell_type": "code",
   "execution_count": 4,
   "metadata": {
    "collapsed": false,
    "id": "e7bk6W-Vjg0f"
   },
   "outputs": [
   ],
   "source": [
    "# create an instance(object) of the class Puppy \n",
    "bella = Puppy('bella', 'beagle')\n",
    "\n",
    "# another instance\n",
    "coco = Puppy('coco', 'lab')"
   ]
  },
  {
   "cell_type": "code",
   "execution_count": 9,
   "metadata": {
    "colab": {
     "base_uri": "https://localhost:8080/",
     "height": 35
    },
    "collapsed": false,
    "id": "UV0_rODKpzr7",
    "outputId": "964b2680-ef8f-40f5-bada-50a582789c8f"
   },
   "outputs": [
    {
     "data": {
      "text/plain": [
       "'mammal'"
      ]
     },
     "execution_count": 9,
     "metadata": {
     },
     "output_type": "execute_result"
    }
   ],
   "source": [
    "Puppy.species"
   ]
  },
  {
   "cell_type": "code",
   "execution_count": 5,
   "metadata": {
    "collapsed": false
   },
   "outputs": [
    {
     "data": {
      "text/plain": [
       "'mammal'"
      ]
     },
     "execution_count": 5,
     "metadata": {
     },
     "output_type": "execute_result"
    }
   ],
   "source": [
    "bella.species"
   ]
  },
  {
   "cell_type": "markdown",
   "metadata": {
    "collapsed": false,
    "id": "bSuiFo23k-7G"
   },
   "source": [
    "Lets try out some class **methods** & **attributes**"
   ]
  },
  {
   "cell_type": "code",
   "execution_count": 10,
   "metadata": {
    "colab": {
     "base_uri": "https://localhost:8080/"
    },
    "collapsed": false,
    "id": "pr_KqUgWk8bL",
    "outputId": "992c2c63-9f51-49f8-f348-e88e021d055a"
   },
   "outputs": [
    {
     "name": "stdout",
     "output_type": "stream",
     "text": [
      "Wolf Wolf\n"
     ]
    }
   ],
   "source": [
    "coco.bark()"
   ]
  },
  {
   "cell_type": "code",
   "execution_count": 5,
   "metadata": {
    "collapsed": false,
    "scrolled": true
   },
   "outputs": [
    {
     "name": "stdout",
     "output_type": "stream",
     "text": [
      "Wolf Wolf\n"
     ]
    }
   ],
   "source": [
    "bella.bark()"
   ]
  },
  {
   "cell_type": "markdown",
   "metadata": {
    "collapsed": false,
    "id": "qnf44o6vmy37"
   },
   "source": [
    "`__str__` is a built in class method. It is what gets executed when you run print on an object of the class.\n",
    "\n"
   ]
  },
  {
   "cell_type": "code",
   "execution_count": 22,
   "metadata": {
    "colab": {
     "base_uri": "https://localhost:8080/"
    },
    "collapsed": false,
    "id": "xS_Ba2QilHgy",
    "outputId": "5ae2059b-6483-4f33-da72-9a75a70e6653"
   },
   "outputs": [
    {
     "name": "stdout",
     "output_type": "stream",
     "text": [
      "My name is coco and I am alab.\n",
      "My name is bella and I am abeagle.\n"
     ]
    }
   ],
   "source": [
    "print(coco)\n",
    "print(bella)"
   ]
  },
  {
   "cell_type": "markdown",
   "metadata": {
    "collapsed": false,
    "id": "C0ZpdXgFnFFu"
   },
   "source": [
    "When you retrive an attribute of an object, the `()` shouldn't be used."
   ]
  },
  {
   "cell_type": "code",
   "execution_count": 35,
   "metadata": {
    "colab": {
     "base_uri": "https://localhost:8080/",
     "height": 35
    },
    "collapsed": false,
    "id": "CP7a5acqnEID",
    "outputId": "c66e974c-5322-46e1-fba8-4d1bcf042c20"
   },
   "outputs": [
    {
     "data": {
      "application/vnd.google.colaboratory.intrinsic+json": {
       "type": "string"
      },
      "text/plain": [
       "'beagle'"
      ]
     },
     "execution_count": 35,
     "metadata": {
     },
     "output_type": "execute_result"
    }
   ],
   "source": [
    "bella.breed"
   ]
  },
  {
   "cell_type": "code",
   "execution_count": 0,
   "metadata": {
    "collapsed": false,
    "id": "h16qeXeElN7h"
   },
   "outputs": [
   ],
   "source": [
    "# bella.breed() # would give error"
   ]
  },
  {
   "cell_type": "markdown",
   "metadata": {
    "collapsed": false,
    "id": "uLp6jOeDoDPO"
   },
   "source": [
    "You can change the attribute of an object by using `.attribute` as well"
   ]
  },
  {
   "cell_type": "code",
   "execution_count": 6,
   "metadata": {
    "colab": {
     "base_uri": "https://localhost:8080/",
     "height": 35
    },
    "collapsed": false,
    "id": "X5ACS5KKoSMf",
    "outputId": "bb39e1d8-a041-4451-968d-a58f3ea234c5"
   },
   "outputs": [
    {
     "data": {
      "text/plain": [
       "'poodle'"
      ]
     },
     "execution_count": 6,
     "metadata": {
     },
     "output_type": "execute_result"
    }
   ],
   "source": [
    "bella.breed = 'poodle'\n",
    "# now when we check again, bella shouled be a poodle\n",
    "bella.breed "
   ]
  },
  {
   "cell_type": "markdown",
   "metadata": {
    "collapsed": false,
    "id": "D-Fgjc-4ofj3"
   },
   "source": [
    "However, this is bad programming practice. Usually we want to keep some of the attributes really safe. We can prevent other people accessing it (with `.arrtibute`) by add `__` to the arribute name. Also we would use get/set method for changing variables instead of directly doing it with `.attribute`.\n",
    "\n"
   ]
  },
  {
   "cell_type": "code",
   "execution_count": 24,
   "metadata": {
    "collapsed": false,
    "id": "9smcbRlNnhNJ"
   },
   "outputs": [
   ],
   "source": [
    "class Puppy:\n",
    "\n",
    "  species = 'mammal'\n",
    "\n",
    "  def __init__(self, name, breed):\n",
    "    self.name = name\n",
    "    self.__breed = breed # breed is now a private attribute\n",
    "\n",
    "  def bark(self):\n",
    "    print(\"Wolf Wolf\")\n",
    "\n",
    "  def __str__(self):\n",
    "    return \"My name is \" + str(self.name) + \" and I am a\" + str(self.breed) + \".\"\n"
   ]
  },
  {
   "cell_type": "code",
   "execution_count": 25,
   "metadata": {
    "colab": {
     "base_uri": "https://localhost:8080/",
     "height": 187
    },
    "collapsed": false,
    "id": "7-gvqPPEnhQc",
    "outputId": "70cca040-cafb-4b75-9c3c-ef63e2daf8ea"
   },
   "outputs": [
    {
     "ename": "AttributeError",
     "evalue": "'Puppy' object has no attribute 'breed'",
     "output_type": "error",
     "traceback": [
      "\u001b[0;31m---------------------------------------------------------------------------\u001b[0m",
      "\u001b[0;31mAttributeError\u001b[0m                            Traceback (most recent call last)",
      "Input \u001b[0;32mIn [25]\u001b[0m, in \u001b[0;36m<cell line: 2>\u001b[0;34m()\u001b[0m\n\u001b[1;32m      1\u001b[0m bruce \u001b[38;5;241m=\u001b[39m Puppy(\u001b[38;5;124m'\u001b[39m\u001b[38;5;124mbruce\u001b[39m\u001b[38;5;124m'\u001b[39m, \u001b[38;5;124m'\u001b[39m\u001b[38;5;124mboxer\u001b[39m\u001b[38;5;124m'\u001b[39m)\n\u001b[0;32m----> 2\u001b[0m \u001b[38;5;28mprint\u001b[39m(\u001b[43mbruce\u001b[49m\u001b[38;5;241;43m.\u001b[39;49m\u001b[43mbreed\u001b[49m)\n",
      "\u001b[0;31mAttributeError\u001b[0m: 'Puppy' object has no attribute 'breed'"
     ]
    }
   ],
   "source": [
    "bruce = Puppy('bruce', 'boxer')\n",
    "print(bruce.breed) # will throw error"
   ]
  },
  {
   "cell_type": "markdown",
   "metadata": {
    "collapsed": false,
    "id": "WXL4pAv7pQPk"
   },
   "source": [
    "Now lets add get/set methods for `__breed`. \n",
    "\n"
   ]
  },
  {
   "cell_type": "code",
   "execution_count": 19,
   "metadata": {
    "collapsed": false,
    "id": "fUSs-GIanhf0"
   },
   "outputs": [
   ],
   "source": [
    "class Puppy:\n",
    "\n",
    "  species = 'mammal'\n",
    "\n",
    "  def __init__(self, name, breed):\n",
    "    self.name = name\n",
    "    self.__breed = breed # breed is now a private attribute\n",
    "  \n",
    "  def bark(self):\n",
    "    print(\"Wolf Wolf\")\n",
    " \n",
    "  def __str__(self):\n",
    "    return \"My name is \" + str(self.name) + \" and I am a\" + str(self.breed) + \".\"\n",
    "  def get_breed(self):\n",
    "    return self.breed\n",
    "  def set_breed(self,new_breed):\n",
    "    self.__breed = new_breed"
   ]
  },
  {
   "cell_type": "code",
   "execution_count": 20,
   "metadata": {
    "collapsed": false,
    "id": "7pC2Z98bpbOT"
   },
   "outputs": [
    {
     "ename": "AttributeError",
     "evalue": "'Puppy' object has no attribute 'set_breed'",
     "output_type": "error",
     "traceback": [
      "\u001b[0;31m---------------------------------------------------------------------------\u001b[0m",
      "\u001b[0;31mAttributeError\u001b[0m                            Traceback (most recent call last)",
      "Input \u001b[0;32mIn [20]\u001b[0m, in \u001b[0;36m<cell line: 1>\u001b[0;34m()\u001b[0m\n\u001b[0;32m----> 1\u001b[0m \u001b[43mbruce\u001b[49m\u001b[38;5;241;43m.\u001b[39;49m\u001b[43mset_breed\u001b[49m(\u001b[38;5;124m'\u001b[39m\u001b[38;5;124mlabrador\u001b[39m\u001b[38;5;124m'\u001b[39m)\n\u001b[1;32m      2\u001b[0m bruce\u001b[38;5;241m.\u001b[39mget_breed()\n",
      "\u001b[0;31mAttributeError\u001b[0m: 'Puppy' object has no attribute 'set_breed'"
     ]
    }
   ],
   "source": [
    "bruce.set_breed('labrador')\n",
    "bruce.get_breed()"
   ]
  },
  {
   "cell_type": "markdown",
   "metadata": {
    "collapsed": false,
    "id": "UuNjhEivpbQl"
   },
   "source": [
    "### Multiple constructors\n",
    "\n",
    "sometimes we want to create objects with different arguments.\n"
   ]
  },
  {
   "cell_type": "code",
   "execution_count": 17,
   "metadata": {
    "collapsed": false
   },
   "outputs": [
   ],
   "source": [
    "class Puppy:\n",
    "\n",
    "  species = 'mammal'\n",
    "\n",
    "  def __init__(self, name, breed):\n",
    "    self.name = name\n",
    "    self.breed = breed\n",
    "  \n",
    "  def __init__(self, name, breed, age = -1):\n",
    "    self.name = name\n",
    "    self.breed = breed\n",
    "    self.age = age\n",
    "  \n",
    "  def bark(self):\n",
    "    print(\"Wolf Wolf\")\n",
    "\n",
    "  def __str__(self):\n",
    "    if self.age:\n",
    "        return \"My name is \" + str(self.name) + \" and I am a \" + str(self.breed) + \".\""
   ]
  },
  {
   "cell_type": "code",
   "execution_count": 18,
   "metadata": {
    "collapsed": false
   },
   "outputs": [
   ],
   "source": [
    "kiko = Puppy('kiko', 'husky') # doesn't work"
   ]
  },
  {
   "cell_type": "code",
   "execution_count": 50,
   "metadata": {
    "collapsed": false
   },
   "outputs": [
   ],
   "source": [
    "class Puppy:\n",
    "\n",
    "  species = 'mammal'\n",
    "\n",
    "  def __init__(self, name, breed, age = -1):\n",
    "    self.name = name\n",
    "    self.breed = breed\n",
    "    self.age = age\n",
    "  \n",
    "  def bark(self):\n",
    "    print(\"Wolf Wolf\")\n",
    "\n",
    "  def __str__(self):\n",
    "    if self.age:\n",
    "        return \"My name is \" + str(self.name) + \" and I am a \" + str(self.breed) + \".\"\n",
    "\n",
    "kiko = Puppy('kiko', 'husky') # doesn't work"
   ]
  },
  {
   "cell_type": "code",
   "execution_count": 51,
   "metadata": {
    "collapsed": false
   },
   "outputs": [
    {
     "data": {
      "text/plain": [
       "-1"
      ]
     },
     "execution_count": 51,
     "metadata": {
     },
     "output_type": "execute_result"
    }
   ],
   "source": [
    "kiko.age"
   ]
  },
  {
   "cell_type": "code",
   "execution_count": 0,
   "metadata": {
    "collapsed": false
   },
   "outputs": [
   ],
   "source": [
   ]
  },
  {
   "cell_type": "markdown",
   "metadata": {
    "collapsed": false,
    "id": "b82_QeiHp-My"
   },
   "source": [
    "## Exercise \n",
    "\n",
    "Go ahead and create a class and try out some of the methods we talked about.\n",
    "\n"
   ]
  },
  {
   "cell_type": "code",
   "execution_count": 0,
   "metadata": {
    "collapsed": false
   },
   "outputs": [
   ],
   "source": [
   ]
  },
  {
   "cell_type": "code",
   "execution_count": 0,
   "metadata": {
    "collapsed": false
   },
   "outputs": [
   ],
   "source": [
   ]
  },
  {
   "cell_type": "code",
   "execution_count": 2,
   "metadata": {
    "collapsed": false
   },
   "outputs": [
   ],
   "source": [
    "# create a class here, give it 2 attributes and 2 methods"
   ]
  },
  {
   "cell_type": "code",
   "execution_count": 0,
   "metadata": {
    "collapsed": false
   },
   "outputs": [
   ],
   "source": [
   ]
  },
  {
   "cell_type": "code",
   "execution_count": 0,
   "metadata": {
    "collapsed": false
   },
   "outputs": [
   ],
   "source": [
    "# now make one of your attributes private and write getter & setter for it"
   ]
  },
  {
   "cell_type": "code",
   "execution_count": 26,
   "metadata": {
    "collapsed": false
   },
   "outputs": [
   ],
   "source": [
    "class Car:\n",
    "    def __init__(self, make, year, model):\n",
    "        self.__make = make\n",
    "        self.__year = year\n",
    "        self.__model = model\n",
    "    def vroom(self):\n",
    "        print(\"Vroom Vroom\")\n",
    "    def __str__(self):\n",
    "        return \"I am a \" + str(self.__year) + str(self.__make) + str(self.__model)\n",
    "    def get_year(self):\n",
    "        return self.__year"
   ]
  },
  {
   "cell_type": "code",
   "execution_count": 28,
   "metadata": {
    "collapsed": false
   },
   "outputs": [
    {
     "data": {
      "text/plain": [
       "2009"
      ]
     },
     "execution_count": 28,
     "metadata": {
     },
     "output_type": "execute_result"
    }
   ],
   "source": [
    "myCar = Car(\"Honda\",2009,\"Civic\")\n",
    "myCar.get_year()"
   ]
  },
  {
   "cell_type": "markdown",
   "metadata": {
    "collapsed": false,
    "id": "EJfnBxVUqI60"
   },
   "source": [
    "## Connect to Drive in Colab\n",
    "\n",
    "Won't work on cocalc, this is for your reference when you work on google colab.\n",
    "\n"
   ]
  },
  {
   "cell_type": "code",
   "execution_count": 29,
   "metadata": {
    "colab": {
     "base_uri": "https://localhost:8080/"
    },
    "collapsed": false,
    "id": "cTd3Wg9XqggD",
    "outputId": "c27ed2a5-81f5-4ed6-8f32-26b16bf96550"
   },
   "outputs": [
    {
     "ename": "ModuleNotFoundError",
     "evalue": "No module named 'google'",
     "output_type": "error",
     "traceback": [
      "\u001b[0;31m---------------------------------------------------------------------------\u001b[0m",
      "\u001b[0;31mModuleNotFoundError\u001b[0m                       Traceback (most recent call last)",
      "Input \u001b[0;32mIn [29]\u001b[0m, in \u001b[0;36m<cell line: 1>\u001b[0;34m()\u001b[0m\n\u001b[0;32m----> 1\u001b[0m \u001b[38;5;28;01mfrom\u001b[39;00m \u001b[38;5;21;01mgoogle\u001b[39;00m\u001b[38;5;21;01m.\u001b[39;00m\u001b[38;5;21;01mcolab\u001b[39;00m \u001b[38;5;28;01mimport\u001b[39;00m drive\n\u001b[1;32m      2\u001b[0m drive\u001b[38;5;241m.\u001b[39mmount(\u001b[38;5;124m'\u001b[39m\u001b[38;5;124m/content/drive\u001b[39m\u001b[38;5;124m'\u001b[39m)\n",
      "\u001b[0;31mModuleNotFoundError\u001b[0m: No module named 'google'"
     ]
    }
   ],
   "source": [
    "from google.colab import drive\n",
    "drive.mount('/content/drive') # connects colab to your drive, you need to run this \n",
    "                              # everytime your notebook restarts"
   ]
  },
  {
   "cell_type": "code",
   "execution_count": 50,
   "metadata": {
    "colab": {
     "base_uri": "https://localhost:8080/"
    },
    "collapsed": false,
    "id": "5ABXb1oSqgxt",
    "outputId": "6c6fd3be-08c2-4a47-dac9-78a21961ad19"
   },
   "outputs": [
    {
     "name": "stdout",
     "output_type": "stream",
     "text": [
      "/content\n"
     ]
    }
   ],
   "source": [
    "!pwd"
   ]
  },
  {
   "cell_type": "code",
   "execution_count": 62,
   "metadata": {
    "colab": {
     "base_uri": "https://localhost:8080/"
    },
    "collapsed": false,
    "id": "x7-Qt0XDrBMM",
    "outputId": "40119dc6-6542-410a-8992-c1e8549f33ff"
   },
   "outputs": [
    {
     "name": "stdout",
     "output_type": "stream",
     "text": [
      "/content/drive\n"
     ]
    }
   ],
   "source": [
    "%cd ./drive"
   ]
  }
 ],
 "metadata": {
  "colab": {
   "name": "More_Python.ipynb",
   "provenance": [
   ]
  },
  "kernelspec": {
   "display_name": "Python (nlp_env)",
   "language": "python",
   "metadata": {
    "debugger": true
   },
   "name": "nlp_env",
   "resource_dir": "/projects/86d339fa-747e-4196-9616-8fbb1e536d3f/.local/share/jupyter/kernels/nlp_env"
  },
  "language_info": {
   "codemirror_mode": {
    "name": "ipython",
    "version": 3
   },
   "file_extension": ".py",
   "mimetype": "text/x-python",
   "name": "python",
   "nbconvert_exporter": "python",
   "pygments_lexer": "ipython3",
   "version": "3.8.13"
  }
 },
 "nbformat": 4,
 "nbformat_minor": 4
}