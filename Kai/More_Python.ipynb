{
 "cells": [
  {
   "cell_type": "markdown",
   "metadata": {
    "collapsed": false
   },
   "source": [
    "## Object\\-Oriented Programming in Python\n",
    "\n",
    "This is an example of a python class. Take a couple minutes to research and answer these questions: \n",
    "\n",
    "- attributes & methods: identify which lines of code define an attribute/method.\n",
    "- `__init__` : what is this\n",
    "- `__str__`   : what is this, why we need it.\n",
    "\n"
   ]
  },
  {
   "cell_type": "code",
   "execution_count": 1,
   "metadata": {
    "collapsed": false,
    "id": "P3EsgR1NjgyF"
   },
   "outputs": [
   ],
   "source": [
    "class Puppy:\n",
    "\n",
    "  species = 'mammal'\n",
    "\n",
    "  def __init__(self, name, breed):\n",
    "    self.name = name\n",
    "    self.breed = breed\n",
    "\n",
    "  def bark(self):\n",
    "    print(\"Wolf Wolf\")\n",
    "\n",
    "  def __str__(self):\n",
    "    return \"My name is \" + str(self.name) + \" and I am a\" + str(self.breed) + \".\"\n"
   ]
  },
  {
   "cell_type": "code",
   "execution_count": 0,
   "metadata": {
    "collapsed": false
   },
   "outputs": [
   ],
   "source": [
   ]
  },
  {
   "cell_type": "code",
   "execution_count": 2,
   "metadata": {
    "collapsed": false,
    "id": "e7bk6W-Vjg0f"
   },
   "outputs": [
   ],
   "source": [
    "# create an instance(object) of the class Puppy \n",
    "bella = Puppy('bella', 'beagle')\n",
    "\n",
    "# another instance\n",
    "coco = Puppy('coco', 'lab')"
   ]
  },
  {
   "cell_type": "code",
   "execution_count": 3,
   "metadata": {
    "colab": {
     "base_uri": "https://localhost:8080/",
     "height": 35
    },
    "collapsed": false,
    "id": "UV0_rODKpzr7",
    "outputId": "964b2680-ef8f-40f5-bada-50a582789c8f"
   },
   "outputs": [
    {
     "data": {
      "text/plain": [
       "'mammal'"
      ]
     },
     "execution_count": 3,
     "metadata": {
     },
     "output_type": "execute_result"
    }
   ],
   "source": [
    "Puppy.species"
   ]
  },
  {
   "cell_type": "code",
   "execution_count": 4,
   "metadata": {
    "collapsed": false
   },
   "outputs": [
    {
     "data": {
      "text/plain": [
       "'mammal'"
      ]
     },
     "execution_count": 4,
     "metadata": {
     },
     "output_type": "execute_result"
    }
   ],
   "source": [
    "bella.species"
   ]
  },
  {
   "cell_type": "markdown",
   "metadata": {
    "collapsed": false,
    "id": "bSuiFo23k-7G"
   },
   "source": [
    "Lets try out some class **methods** & **attributes**"
   ]
  },
  {
   "cell_type": "code",
   "execution_count": 5,
   "metadata": {
    "colab": {
     "base_uri": "https://localhost:8080/"
    },
    "collapsed": false,
    "id": "pr_KqUgWk8bL",
    "outputId": "992c2c63-9f51-49f8-f348-e88e021d055a"
   },
   "outputs": [
    {
     "name": "stdout",
     "output_type": "stream",
     "text": [
      "Wolf Wolf\n"
     ]
    }
   ],
   "source": [
    "coco.bark()"
   ]
  },
  {
   "cell_type": "code",
   "execution_count": 6,
   "metadata": {
    "collapsed": false,
    "scrolled": true
   },
   "outputs": [
    {
     "ename": "NameError",
     "evalue": "name 'bark' is not defined",
     "output_type": "error",
     "traceback": [
      "\u001b[0;31m---------------------------------------------------------------------------\u001b[0m",
      "\u001b[0;31mNameError\u001b[0m                                 Traceback (most recent call last)",
      "Input \u001b[0;32mIn [6]\u001b[0m, in \u001b[0;36m<cell line: 1>\u001b[0;34m()\u001b[0m\n\u001b[0;32m----> 1\u001b[0m \u001b[43mbark\u001b[49m()\n",
      "\u001b[0;31mNameError\u001b[0m: name 'bark' is not defined"
     ]
    }
   ],
   "source": [
    "bark()"
   ]
  },
  {
   "cell_type": "markdown",
   "metadata": {
    "collapsed": false,
    "id": "qnf44o6vmy37"
   },
   "source": [
    "`__str__` is a built in class method. It is what gets executed when you run print on an object of the class.\n",
    "\n"
   ]
  },
  {
   "cell_type": "code",
   "execution_count": 7,
   "metadata": {
    "colab": {
     "base_uri": "https://localhost:8080/"
    },
    "collapsed": false,
    "id": "xS_Ba2QilHgy",
    "outputId": "5ae2059b-6483-4f33-da72-9a75a70e6653"
   },
   "outputs": [
    {
     "name": "stdout",
     "output_type": "stream",
     "text": [
      "My name is coco and I am alab.\n",
      "My name is bella and I am abeagle.\n"
     ]
    }
   ],
   "source": [
    "print(coco)\n",
    "print(bella)"
   ]
  },
  {
   "cell_type": "markdown",
   "metadata": {
    "collapsed": false,
    "id": "C0ZpdXgFnFFu"
   },
   "source": [
    "When you retrive an attribute of an object, the `()` shouldn't be used."
   ]
  },
  {
   "cell_type": "code",
   "execution_count": 8,
   "metadata": {
    "colab": {
     "base_uri": "https://localhost:8080/",
     "height": 35
    },
    "collapsed": false,
    "id": "CP7a5acqnEID",
    "outputId": "c66e974c-5322-46e1-fba8-4d1bcf042c20",
    "scrolled": true
   },
   "outputs": [
    {
     "data": {
      "text/plain": [
       "'beagle'"
      ]
     },
     "execution_count": 8,
     "metadata": {
     },
     "output_type": "execute_result"
    }
   ],
   "source": [
    "bella.breed"
   ]
  },
  {
   "cell_type": "code",
   "execution_count": 0,
   "metadata": {
    "collapsed": false,
    "id": "h16qeXeElN7h"
   },
   "outputs": [
   ],
   "source": [
    "# bella.breed() # would give error"
   ]
  },
  {
   "cell_type": "markdown",
   "metadata": {
    "collapsed": false,
    "id": "uLp6jOeDoDPO"
   },
   "source": [
    "You can change the attribute of an object by using `.attribute` as well"
   ]
  },
  {
   "cell_type": "code",
   "execution_count": 9,
   "metadata": {
    "colab": {
     "base_uri": "https://localhost:8080/",
     "height": 35
    },
    "collapsed": false,
    "id": "X5ACS5KKoSMf",
    "outputId": "bb39e1d8-a041-4451-968d-a58f3ea234c5"
   },
   "outputs": [
    {
     "data": {
      "text/plain": [
       "'poodle'"
      ]
     },
     "execution_count": 9,
     "metadata": {
     },
     "output_type": "execute_result"
    }
   ],
   "source": [
    "bella.breed = 'poodle'\n",
    "# now when we check again, bella shouled be a poodle\n",
    "bella.breed "
   ]
  },
  {
   "cell_type": "markdown",
   "metadata": {
    "collapsed": false,
    "id": "D-Fgjc-4ofj3"
   },
   "source": [
    "However, this is bad programming practice. Usually we want to keep some of the attributes really safe. We can prevent other people accessing it (with `.arrtibute`) by add `__` to the arribute name. Also we would use get/set method for changing variables instead of directly doing it with `.attribute`.\n",
    "\n"
   ]
  },
  {
   "cell_type": "code",
   "execution_count": 10,
   "metadata": {
    "collapsed": false,
    "id": "9smcbRlNnhNJ"
   },
   "outputs": [
   ],
   "source": [
    "class Puppy:\n",
    "\n",
    "  species = 'mammal'\n",
    "\n",
    "  def __init__(self, name, breed):\n",
    "    self.name = name\n",
    "    self.__breed = breed # breed is now a private attribute\n",
    "\n",
    "  def bark(self):\n",
    "    print(\"Wolf Wolf\")\n",
    "\n",
    "  def __str__(self):\n",
    "    return \"My name is \" + str(self.name) + \" and I am a\" + str(self.breed) + \".\"\n"
   ]
  },
  {
   "cell_type": "code",
   "execution_count": 11,
   "metadata": {
    "colab": {
     "base_uri": "https://localhost:8080/",
     "height": 187
    },
    "collapsed": false,
    "id": "7-gvqPPEnhQc",
    "outputId": "70cca040-cafb-4b75-9c3c-ef63e2daf8ea"
   },
   "outputs": [
    {
     "ename": "AttributeError",
     "evalue": "'Puppy' object has no attribute '__breed'",
     "output_type": "error",
     "traceback": [
      "\u001b[0;31m---------------------------------------------------------------------------\u001b[0m",
      "\u001b[0;31mAttributeError\u001b[0m                            Traceback (most recent call last)",
      "Input \u001b[0;32mIn [11]\u001b[0m, in \u001b[0;36m<cell line: 2>\u001b[0;34m()\u001b[0m\n\u001b[1;32m      1\u001b[0m bruce \u001b[38;5;241m=\u001b[39m Puppy(\u001b[38;5;124m'\u001b[39m\u001b[38;5;124mbruce\u001b[39m\u001b[38;5;124m'\u001b[39m, \u001b[38;5;124m'\u001b[39m\u001b[38;5;124mboxer\u001b[39m\u001b[38;5;124m'\u001b[39m)\n\u001b[0;32m----> 2\u001b[0m \u001b[43mbruce\u001b[49m\u001b[38;5;241;43m.\u001b[39;49m\u001b[43m__breed\u001b[49m\n",
      "\u001b[0;31mAttributeError\u001b[0m: 'Puppy' object has no attribute '__breed'"
     ]
    }
   ],
   "source": [
    "bruce = Puppy('bruce', 'boxer')\n",
    "bruce.__breed # will throw error"
   ]
  },
  {
   "cell_type": "markdown",
   "metadata": {
    "collapsed": false,
    "id": "WXL4pAv7pQPk"
   },
   "source": [
    "Now lets add get/set methods for `__breed`. \n",
    "\n"
   ]
  },
  {
   "cell_type": "code",
   "execution_count": 13,
   "metadata": {
    "collapsed": false,
    "id": "fUSs-GIanhf0"
   },
   "outputs": [
   ],
   "source": [
    "class Puppy:\n",
    "\n",
    "  species = 'mammal'\n",
    "\n",
    "  def __init__(self, name, breed):\n",
    "    self.name = name\n",
    "    self.__breed = breed # breed is now a private attribute\n",
    "  \n",
    "  def bark(self):\n",
    "    print(\"Wolf Wolf\")\n",
    "\n",
    "  def __str__(self):\n",
    "    return \"My name is \" + str(self.name) + \" and I am a\" + str(self.breed) + \".\"\n",
    "  \n",
    "  def get_breed(self):\n",
    "    return self.__breed\n",
    "\n",
    "  def set_breed(self, new_breed):\n",
    "    self.__breed = new_breed"
   ]
  },
  {
   "cell_type": "code",
   "execution_count": 14,
   "metadata": {
    "collapsed": false,
    "id": "7pC2Z98bpbOT"
   },
   "outputs": [
    {
     "data": {
      "text/plain": [
       "'husky'"
      ]
     },
     "execution_count": 14,
     "metadata": {
     },
     "output_type": "execute_result"
    }
   ],
   "source": [
    "bruce = Puppy('bruce', 'boxer')\n",
    "bruce.set_breed('husky')\n",
    "bruce.get_breed()"
   ]
  },
  {
   "cell_type": "markdown",
   "metadata": {
    "collapsed": false,
    "id": "UuNjhEivpbQl"
   },
   "source": [
    "### Multiple constructors\n",
    "\n",
    "sometimes we want to create objects with different arguments.\n"
   ]
  },
  {
   "cell_type": "code",
   "execution_count": 43,
   "metadata": {
    "collapsed": false
   },
   "outputs": [
   ],
   "source": [
    "class Puppy:\n",
    "\n",
    "  species = 'mammal'\n",
    "\n",
    "  def __init__(self, name, breed):\n",
    "    self.name = name\n",
    "    self.breed = breed\n",
    "  \n",
    "  def __init__(self, name, breed, age):\n",
    "    self.name = name\n",
    "    self.breed = breed\n",
    "    self.age = age\n",
    "  \n",
    "  def bark(self):\n",
    "    print(\"Wolf Wolf\")\n",
    "\n",
    "  def __str__(self):\n",
    "    if self.age:\n",
    "        return \"My name is \" + str(self.name) + \" and I am a \" + str(self.breed) + \".\""
   ]
  },
  {
   "cell_type": "code",
   "execution_count": 45,
   "metadata": {
    "collapsed": false
   },
   "outputs": [
    {
     "ename": "TypeError",
     "evalue": "__init__() missing 1 required positional argument: 'age'",
     "output_type": "error",
     "traceback": [
      "\u001b[0;31m---------------------------------------------------------------------------\u001b[0m",
      "\u001b[0;31mTypeError\u001b[0m                                 Traceback (most recent call last)",
      "Input \u001b[0;32mIn [45]\u001b[0m, in \u001b[0;36m<cell line: 1>\u001b[0;34m()\u001b[0m\n\u001b[0;32m----> 1\u001b[0m kiko \u001b[38;5;241m=\u001b[39m \u001b[43mPuppy\u001b[49m\u001b[43m(\u001b[49m\u001b[38;5;124;43m'\u001b[39;49m\u001b[38;5;124;43mkiko\u001b[39;49m\u001b[38;5;124;43m'\u001b[39;49m\u001b[43m,\u001b[49m\u001b[43m \u001b[49m\u001b[38;5;124;43m'\u001b[39;49m\u001b[38;5;124;43mhusky\u001b[39;49m\u001b[38;5;124;43m'\u001b[39;49m\u001b[43m)\u001b[49m\n",
      "\u001b[0;31mTypeError\u001b[0m: __init__() missing 1 required positional argument: 'age'"
     ]
    }
   ],
   "source": [
    "kiko = Puppy('kiko', 'husky') # doesn't work"
   ]
  },
  {
   "cell_type": "code",
   "execution_count": 22,
   "metadata": {
    "collapsed": false
   },
   "outputs": [
   ],
   "source": [
    "class Puppy:\n",
    "\n",
    "  species = 'mammal'\n",
    "\n",
    "  def __init__(self, name, breed, age = None):\n",
    "    self.name = name\n",
    "    self.breed = breed\n",
    "    self.age = age\n",
    "  \n",
    "  def bark(self):\n",
    "    print(\"Wolf Wolf\")\n",
    "\n",
    "  def __str__(self):\n",
    "    if not self.age:\n",
    "        return \"My name is \" + str(self.name) + \" and I am a \" + str(self.breed) + \".\"\n",
    "    else:\n",
    "        return \"My name is \" + str(self.name) + \" and I am a \" + str(self.age) + ' months old ' + str(self.breed) + \".\"\n",
    "\n",
    "kiko = Puppy('kiko', 'husky') # doesn't work"
   ]
  },
  {
   "cell_type": "code",
   "execution_count": 23,
   "metadata": {
    "collapsed": false
   },
   "outputs": [
    {
     "name": "stdout",
     "output_type": "stream",
     "text": [
      "My name is kiko and I am a 2 months old husky.\n"
     ]
    }
   ],
   "source": [
    "kiko = Puppy('kiko','husky',2)\n",
    "print(kiko)"
   ]
  },
  {
   "cell_type": "code",
   "execution_count": 0,
   "metadata": {
    "collapsed": false
   },
   "outputs": [
   ],
   "source": [
   ]
  },
  {
   "cell_type": "markdown",
   "metadata": {
    "collapsed": false,
    "id": "b82_QeiHp-My"
   },
   "source": [
    "## Exercise \n",
    "\n",
    "Go ahead and create a class and try out some of the methods we talked about.\n",
    "\n"
   ]
  },
  {
   "cell_type": "code",
   "execution_count": 44,
   "metadata": {
    "collapsed": false
   },
   "outputs": [
   ],
   "source": [
    "class customers:\n",
    "\n",
    "    def __init__(self, name, age, car):\n",
    "        self.name = name\n",
    "        self.age = age\n",
    "        self.car = car\n",
    "\n",
    "    def display_names(self):\n",
    "        print('Name: %s\\nAge: %i\\nCar: %s' %(self.name, self.age, self.car))\n",
    "\n",
    "    def update_car(self, car):\n",
    "        self.car = car\n",
    "\n",
    "    def __str__(self):\n",
    "        return str('Name: %s\\nAge: %i\\nCar: %s' %(self.name, self.age, self.car))"
   ]
  },
  {
   "cell_type": "code",
   "execution_count": 45,
   "metadata": {
    "collapsed": false
   },
   "outputs": [
   ],
   "source": [
    "customer1 = customers(\"Joe\", 22, \"BMW\")\n",
    "customer2 = customers(\"Mike\", 25, \"Supra\")"
   ]
  },
  {
   "cell_type": "code",
   "execution_count": 46,
   "metadata": {
    "collapsed": false,
    "scrolled": true
   },
   "outputs": [
    {
     "data": {
      "text/plain": [
       "'BMW'"
      ]
     },
     "execution_count": 46,
     "metadata": {
     },
     "output_type": "execute_result"
    }
   ],
   "source": [
    "customer1.car"
   ]
  },
  {
   "cell_type": "code",
   "execution_count": 47,
   "metadata": {
    "collapsed": false,
    "scrolled": true
   },
   "outputs": [
    {
     "name": "stdout",
     "output_type": "stream",
     "text": [
      "Name: Mike\n",
      "Age: 25\n",
      "Car: Supra\n"
     ]
    }
   ],
   "source": [
    "customer2.display_names()"
   ]
  },
  {
   "cell_type": "code",
   "execution_count": 48,
   "metadata": {
    "collapsed": false,
    "scrolled": true
   },
   "outputs": [
    {
     "name": "stdout",
     "output_type": "stream",
     "text": [
      "Name: Mike\n",
      "Age: 25\n",
      "Car: Supra\n"
     ]
    }
   ],
   "source": [
    "print(customer2)"
   ]
  },
  {
   "cell_type": "code",
   "execution_count": 2,
   "metadata": {
    "collapsed": false
   },
   "outputs": [
   ],
   "source": [
    "# create a class here, give it 2 attributes and 2 methods"
   ]
  },
  {
   "cell_type": "code",
   "execution_count": 0,
   "metadata": {
    "collapsed": false
   },
   "outputs": [
   ],
   "source": [
   ]
  },
  {
   "cell_type": "code",
   "execution_count": 0,
   "metadata": {
    "collapsed": false
   },
   "outputs": [
   ],
   "source": [
    "# now make one of your attributes private and write getter & setter for it"
   ]
  },
  {
   "cell_type": "code",
   "execution_count": 0,
   "metadata": {
    "collapsed": false
   },
   "outputs": [
   ],
   "source": [
   ]
  },
  {
   "cell_type": "markdown",
   "metadata": {
    "collapsed": false,
    "id": "EJfnBxVUqI60"
   },
   "source": [
    "## Connect to Drive in Colab\n",
    "\n",
    "Won't work on cocalc, this is for your reference when you work on google colab.\n"
   ]
  },
  {
   "cell_type": "code",
   "execution_count": 49,
   "metadata": {
    "colab": {
     "base_uri": "https://localhost:8080/"
    },
    "collapsed": false,
    "id": "cTd3Wg9XqggD",
    "outputId": "c27ed2a5-81f5-4ed6-8f32-26b16bf96550"
   },
   "outputs": [
    {
     "name": "stdout",
     "output_type": "stream",
     "text": [
      "Mounted at /content/drive\n"
     ]
    }
   ],
   "source": [
    "from google.colab import drive\n",
    "drive.mount('/content/drive') # connects colab to your drive, you need to run this \n",
    "                              # everytime your notebook restarts"
   ]
  },
  {
   "cell_type": "code",
   "execution_count": 50,
   "metadata": {
    "colab": {
     "base_uri": "https://localhost:8080/"
    },
    "collapsed": false,
    "id": "5ABXb1oSqgxt",
    "outputId": "6c6fd3be-08c2-4a47-dac9-78a21961ad19"
   },
   "outputs": [
    {
     "name": "stdout",
     "output_type": "stream",
     "text": [
      "/content\n"
     ]
    }
   ],
   "source": [
    "!pwd"
   ]
  },
  {
   "cell_type": "code",
   "execution_count": 62,
   "metadata": {
    "colab": {
     "base_uri": "https://localhost:8080/"
    },
    "collapsed": false,
    "id": "x7-Qt0XDrBMM",
    "outputId": "40119dc6-6542-410a-8992-c1e8549f33ff"
   },
   "outputs": [
    {
     "name": "stdout",
     "output_type": "stream",
     "text": [
      "/content/drive\n"
     ]
    }
   ],
   "source": [
    "%cd ./drive"
   ]
  }
 ],
 "metadata": {
  "colab": {
   "name": "More_Python.ipynb",
   "provenance": [
   ]
  },
  "kernelspec": {
   "display_name": "Python (nlp_env)",
   "language": "python",
   "metadata": {
    "debugger": true
   },
   "name": "nlp_env",
   "resource_dir": "/projects/86d339fa-747e-4196-9616-8fbb1e536d3f/.local/share/jupyter/kernels/nlp_env"
  },
  "language_info": {
   "codemirror_mode": {
    "name": "ipython",
    "version": 3
   },
   "file_extension": ".py",
   "mimetype": "text/x-python",
   "name": "python",
   "nbconvert_exporter": "python",
   "pygments_lexer": "ipython3",
   "version": "3.8.13"
  }
 },
 "nbformat": 4,
 "nbformat_minor": 4
}